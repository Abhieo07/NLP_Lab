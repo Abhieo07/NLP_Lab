{
  "cells": [
    {
      "cell_type": "markdown",
      "metadata": {
        "id": "mdLqqyarhvEr"
      },
      "source": [
        "Gautam Mandal\n",
        "\n",
        "21102A0063\n",
        "\n",
        "BE CMPN A\n"
      ]
    },
    {
      "cell_type": "code",
      "execution_count": 2,
      "metadata": {
        "colab": {
          "base_uri": "https://localhost:8080/"
        },
        "id": "5imYCSiRhU5C",
        "outputId": "4b6c0687-9e6e-4d41-bea1-b066f4e80908"
      },
      "outputs": [
        {
          "name": "stdout",
          "output_type": "stream",
          "text": [
            "Requirement already satisfied: nltk in /usr/local/lib/python3.10/dist-packages (3.8.1)\n",
            "Requirement already satisfied: click in /usr/local/lib/python3.10/dist-packages (from nltk) (8.1.7)\n",
            "Requirement already satisfied: joblib in /usr/local/lib/python3.10/dist-packages (from nltk) (1.4.2)\n",
            "Requirement already satisfied: regex>=2021.8.3 in /usr/local/lib/python3.10/dist-packages (from nltk) (2024.9.11)\n",
            "Requirement already satisfied: tqdm in /usr/local/lib/python3.10/dist-packages (from nltk) (4.66.5)\n",
            "Categories in Brown Corpus:\n",
            "['adventure', 'belles_lettres', 'editorial', 'fiction', 'government', 'hobbies', 'humor', 'learned', 'lore', 'mystery', 'news', 'religion', 'reviews', 'romance', 'science_fiction']\n",
            "\n",
            "Number of words in the Science Fiction category: 14470\n"
          ]
        },
        {
          "name": "stderr",
          "output_type": "stream",
          "text": [
            "[nltk_data] Downloading package brown to /root/nltk_data...\n",
            "[nltk_data]   Package brown is already up-to-date!\n"
          ]
        }
      ],
      "source": [
        "# Step 1: Install and import the necessary libraries\n",
        "!pip install nltk\n",
        "\n",
        "import nltk\n",
        "from nltk.corpus import brown\n",
        "\n",
        "# Step 2: Download the Brown corpus\n",
        "nltk.download('brown')\n",
        "\n",
        "# Step 3: List the categories in the Brown corpus\n",
        "categories = brown.categories()\n",
        "print(\"Categories in Brown Corpus:\")\n",
        "print(categories)\n",
        "\n",
        "# Step 4: Count the number of words in the Science Fiction category\n",
        "sci_fi_words = brown.words(categories='science_fiction')\n",
        "word_count = len(sci_fi_words)\n",
        "\n",
        "print(f\"\\nNumber of words in the Science Fiction category: {word_count}\")\n"
      ]
    }
  ],
  "metadata": {
    "colab": {
      "provenance": []
    },
    "kernelspec": {
      "display_name": "Python 3",
      "name": "python3"
    },
    "language_info": {
      "name": "python"
    }
  },
  "nbformat": 4,
  "nbformat_minor": 0
}
