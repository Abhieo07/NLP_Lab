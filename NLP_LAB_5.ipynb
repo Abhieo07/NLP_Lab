{
  "cells": [
    {
      "cell_type": "markdown",
      "metadata": {
        "id": "iyLn1tunqnMH"
      },
      "source": [
        "Gautam Mandal\n",
        "\n",
        "BE CMPN A\n",
        "\n",
        "21102A0063\n",
        "\n"
      ]
    },
    {
      "cell_type": "code",
      "execution_count": 1,
      "metadata": {
        "colab": {
          "base_uri": "https://localhost:8080/"
        },
        "id": "WY7jS8K0p6-c",
        "outputId": "c8b486d0-afb8-486b-9998-1da50d275fbd"
      },
      "outputs": [
        {
          "name": "stdout",
          "output_type": "stream",
          "text": [
            "Requirement already satisfied: scikit-learn in /usr/local/lib/python3.10/dist-packages (1.5.2)\n",
            "Requirement already satisfied: pandas in /usr/local/lib/python3.10/dist-packages (2.2.2)\n",
            "Requirement already satisfied: nltk in /usr/local/lib/python3.10/dist-packages (3.8.1)\n",
            "Requirement already satisfied: numpy>=1.19.5 in /usr/local/lib/python3.10/dist-packages (from scikit-learn) (1.26.4)\n",
            "Requirement already satisfied: scipy>=1.6.0 in /usr/local/lib/python3.10/dist-packages (from scikit-learn) (1.13.1)\n",
            "Requirement already satisfied: joblib>=1.2.0 in /usr/local/lib/python3.10/dist-packages (from scikit-learn) (1.4.2)\n",
            "Requirement already satisfied: threadpoolctl>=3.1.0 in /usr/local/lib/python3.10/dist-packages (from scikit-learn) (3.5.0)\n",
            "Requirement already satisfied: python-dateutil>=2.8.2 in /usr/local/lib/python3.10/dist-packages (from pandas) (2.8.2)\n",
            "Requirement already satisfied: pytz>=2020.1 in /usr/local/lib/python3.10/dist-packages (from pandas) (2024.2)\n",
            "Requirement already satisfied: tzdata>=2022.7 in /usr/local/lib/python3.10/dist-packages (from pandas) (2024.2)\n",
            "Requirement already satisfied: click in /usr/local/lib/python3.10/dist-packages (from nltk) (8.1.7)\n",
            "Requirement already satisfied: regex>=2021.8.3 in /usr/local/lib/python3.10/dist-packages (from nltk) (2024.9.11)\n",
            "Requirement already satisfied: tqdm in /usr/local/lib/python3.10/dist-packages (from nltk) (4.66.5)\n",
            "Requirement already satisfied: six>=1.5 in /usr/local/lib/python3.10/dist-packages (from python-dateutil>=2.8.2->pandas) (1.16.0)\n"
          ]
        }
      ],
      "source": [
        "!pip install scikit-learn pandas nltk\n"
      ]
    },
    {
      "cell_type": "code",
      "execution_count": 2,
      "metadata": {
        "colab": {
          "base_uri": "https://localhost:8080/"
        },
        "id": "E38ObINnqG0N",
        "outputId": "3cca841a-cf38-4a43-c052-0e7f0a3de06f"
      },
      "outputs": [
        {
          "name": "stderr",
          "output_type": "stream",
          "text": [
            "[nltk_data] Downloading package punkt to /root/nltk_data...\n",
            "[nltk_data]   Unzipping tokenizers/punkt.zip.\n",
            "[nltk_data] Downloading package stopwords to /root/nltk_data...\n",
            "[nltk_data]   Unzipping corpora/stopwords.zip.\n"
          ]
        },
        {
          "data": {
            "text/plain": [
              "True"
            ]
          },
          "execution_count": 2,
          "metadata": {},
          "output_type": "execute_result"
        }
      ],
      "source": [
        "import pandas as pd\n",
        "from sklearn.feature_extraction.text import TfidfVectorizer\n",
        "from sklearn.metrics.pairwise import cosine_similarity\n",
        "import nltk\n",
        "from nltk.corpus import stopwords\n",
        "from nltk.tokenize import word_tokenize\n",
        "import string\n",
        "\n",
        "nltk.download('punkt')\n",
        "nltk.download('stopwords')\n"
      ]
    },
    {
      "cell_type": "code",
      "execution_count": 3,
      "metadata": {
        "id": "enOgfqGDqLBj"
      },
      "outputs": [],
      "source": [
        "# Sample Job Descriptions\n",
        "jobs = [\n",
        "    \"Software engineer with experience in Python, Django, and machine learning\",\n",
        "    \"Data analyst skilled in SQL, data visualization, and Excel\",\n",
        "    \"Web developer proficient in HTML, CSS, and JavaScript\",\n",
        "    \"Machine learning engineer with expertise in TensorFlow, PyTorch, and deep learning\",\n",
        "    \"Cybersecurity specialist with knowledge of network security and digital forensics\"\n",
        "]\n",
        "\n",
        "# Sample Candidate Profiles\n",
        "candidates = [\n",
        "    \"Experienced Python developer with knowledge of machine learning and Django\",\n",
        "    \"Proficient in SQL, data visualization, and Excel with experience as a data analyst\",\n",
        "    \"Web developer skilled in HTML, CSS, JavaScript, and web design\",\n",
        "    \"Expert in deep learning, TensorFlow, and PyTorch with a background in machine learning\",\n",
        "    \"Network security professional with skills in digital forensics and cybersecurity\"\n",
        "]\n",
        "\n",
        "df_jobs = pd.DataFrame(jobs, columns=['Job_Description'])\n",
        "df_candidates = pd.DataFrame(candidates, columns=['Candidate_Profile'])\n"
      ]
    },
    {
      "cell_type": "code",
      "execution_count": 4,
      "metadata": {
        "id": "klYUaGbNqNGD"
      },
      "outputs": [],
      "source": [
        "# Preprocess Text (remove stopwords, punctuation, lowercase, tokenize)\n",
        "def preprocess(text):\n",
        "    tokens = word_tokenize(text.lower())  # Convert to lower case and tokenize\n",
        "    tokens = [word for word in tokens if word.isalpha()]  # Remove punctuation\n",
        "    tokens = [word for word in tokens if word not in stopwords.words('english')]  # Remove stopwords\n",
        "    return ' '.join(tokens)\n",
        "\n",
        "# Apply preprocessing to both jobs and candidates\n",
        "df_jobs['Processed_Job_Description'] = df_jobs['Job_Description'].apply(preprocess)\n",
        "df_candidates['Processed_Candidate_Profile'] = df_candidates['Candidate_Profile'].apply(preprocess)\n"
      ]
    },
    {
      "cell_type": "code",
      "execution_count": 5,
      "metadata": {
        "colab": {
          "base_uri": "https://localhost:8080/"
        },
        "id": "MfyzYazzqO1s",
        "outputId": "ce351574-4df2-4bd7-aaeb-7e2f32b4f582"
      },
      "outputs": [
        {
          "name": "stdout",
          "output_type": "stream",
          "text": [
            "Cosine Similarity Results:\n",
            "Job_Description                                     Software engineer with experience in Python, Django, and machine learning  \\\n",
            "Candidate_Profile                                                                                                               \n",
            "Experienced Python developer with knowledge of ...                                           0.587737                           \n",
            "Proficient in SQL, data visualization, and Exce...                                           0.129611                           \n",
            "Web developer skilled in HTML, CSS, JavaScript,...                                           0.000000                           \n",
            "Expert in deep learning, TensorFlow, and PyTorc...                                           0.320028                           \n",
            "Network security professional with skills in di...                                           0.000000                           \n",
            "\n",
            "Job_Description                                     Data analyst skilled in SQL, data visualization, and Excel  \\\n",
            "Candidate_Profile                                                                                                \n",
            "Experienced Python developer with knowledge of ...                                           0.000000            \n",
            "Proficient in SQL, data visualization, and Exce...                                           0.843274            \n",
            "Web developer skilled in HTML, CSS, JavaScript,...                                           0.111111            \n",
            "Expert in deep learning, TensorFlow, and PyTorc...                                           0.000000            \n",
            "Network security professional with skills in di...                                           0.000000            \n",
            "\n",
            "Job_Description                                     Web developer proficient in HTML, CSS, and JavaScript  \\\n",
            "Candidate_Profile                                                                                           \n",
            "Experienced Python developer with knowledge of ...                                           0.177301       \n",
            "Proficient in SQL, data visualization, and Exce...                                           0.129099       \n",
            "Web developer skilled in HTML, CSS, JavaScript,...                                           0.816497       \n",
            "Expert in deep learning, TensorFlow, and PyTorc...                                           0.000000       \n",
            "Network security professional with skills in di...                                           0.000000       \n",
            "\n",
            "Job_Description                                     Machine learning engineer with expertise in TensorFlow, PyTorch, and deep learning  \\\n",
            "Candidate_Profile                                                                                                                        \n",
            "Experienced Python developer with knowledge of ...                                           0.301626                                    \n",
            "Proficient in SQL, data visualization, and Exce...                                           0.000000                                    \n",
            "Web developer skilled in HTML, CSS, JavaScript,...                                           0.000000                                    \n",
            "Expert in deep learning, TensorFlow, and PyTorc...                                           0.889477                                    \n",
            "Network security professional with skills in di...                                           0.000000                                    \n",
            "\n",
            "Job_Description                                     Cybersecurity specialist with knowledge of network security and digital forensics  \n",
            "Candidate_Profile                                                                                                                      \n",
            "Experienced Python developer with knowledge of ...                                           0.164149                                  \n",
            "Proficient in SQL, data visualization, and Exce...                                           0.000000                                  \n",
            "Web developer skilled in HTML, CSS, JavaScript,...                                           0.000000                                  \n",
            "Expert in deep learning, TensorFlow, and PyTorc...                                           0.000000                                  \n",
            "Network security professional with skills in di...                                           0.845154                                  \n"
          ]
        }
      ],
      "source": [
        "# Convert the processed job descriptions and candidate profiles into vectors using TF-IDF\n",
        "vectorizer = TfidfVectorizer()\n",
        "\n",
        "# Fit and transform job descriptions\n",
        "tfidf_matrix_jobs = vectorizer.fit_transform(df_jobs['Processed_Job_Description'])\n",
        "\n",
        "# Fit and transform candidate profiles\n",
        "tfidf_matrix_candidates = vectorizer.transform(df_candidates['Processed_Candidate_Profile'])\n",
        "\n",
        "# Calculate cosine similarity\n",
        "cosine_sim = cosine_similarity(tfidf_matrix_candidates, tfidf_matrix_jobs)\n",
        "\n",
        "# Convert to DataFrame for easier understanding\n",
        "cosine_sim_df = pd.DataFrame(cosine_sim, index=df_candidates['Candidate_Profile'], columns=df_jobs['Job_Description'])\n",
        "print(\"Cosine Similarity Results:\")\n",
        "print(cosine_sim_df)\n"
      ]
    },
    {
      "cell_type": "code",
      "execution_count": 6,
      "metadata": {
        "colab": {
          "base_uri": "https://localhost:8080/"
        },
        "id": "R_u78ILmqRpj",
        "outputId": "0429d682-dd8e-402d-b67a-b92e6cccbd78"
      },
      "outputs": [
        {
          "name": "stdout",
          "output_type": "stream",
          "text": [
            "\n",
            "TF-IDF Magnitudes:\n",
            "[[1.         0.         0.14476573 0.33910499 0.        ]\n",
            " [0.         1.         0.         0.         0.        ]\n",
            " [0.14476573 0.         1.         0.         0.        ]\n",
            " [0.33910499 0.         0.         1.         0.        ]\n",
            " [0.         0.         0.         0.         1.        ]]\n"
          ]
        }
      ],
      "source": [
        "# Function to calculate the TF-IDF magnitude for each candidate and job pair\n",
        "def tfidf_magnitude(tfidf_matrix):\n",
        "    return (tfidf_matrix * tfidf_matrix.T).A\n",
        "\n",
        "# Compute the magnitudes for both jobs and candidates\n",
        "magnitude_candidates = tfidf_magnitude(tfidf_matrix_candidates)\n",
        "magnitude_jobs = tfidf_magnitude(tfidf_matrix_jobs.T)\n",
        "\n",
        "# You can use these magnitudes to compare results with cosine similarity, but usually, cosine similarity will be preferred.\n",
        "print(\"\\nTF-IDF Magnitudes:\")\n",
        "print(magnitude_candidates)\n"
      ]
    },
    {
      "cell_type": "code",
      "execution_count": 7,
      "metadata": {
        "colab": {
          "base_uri": "https://localhost:8080/"
        },
        "id": "XBbNKihuqUBr",
        "outputId": "8b714edd-d63d-4909-8a3d-fd56e598252d"
      },
      "outputs": [
        {
          "name": "stdout",
          "output_type": "stream",
          "text": [
            "\n",
            "Comparison:\n",
            "Cosine Similarity:\n",
            "Job_Description                                     Software engineer with experience in Python, Django, and machine learning  \\\n",
            "Candidate_Profile                                                                                                               \n",
            "Experienced Python developer with knowledge of ...                                           0.587737                           \n",
            "Proficient in SQL, data visualization, and Exce...                                           0.129611                           \n",
            "Web developer skilled in HTML, CSS, JavaScript,...                                           0.000000                           \n",
            "Expert in deep learning, TensorFlow, and PyTorc...                                           0.320028                           \n",
            "Network security professional with skills in di...                                           0.000000                           \n",
            "\n",
            "Job_Description                                     Data analyst skilled in SQL, data visualization, and Excel  \\\n",
            "Candidate_Profile                                                                                                \n",
            "Experienced Python developer with knowledge of ...                                           0.000000            \n",
            "Proficient in SQL, data visualization, and Exce...                                           0.843274            \n",
            "Web developer skilled in HTML, CSS, JavaScript,...                                           0.111111            \n",
            "Expert in deep learning, TensorFlow, and PyTorc...                                           0.000000            \n",
            "Network security professional with skills in di...                                           0.000000            \n",
            "\n",
            "Job_Description                                     Web developer proficient in HTML, CSS, and JavaScript  \\\n",
            "Candidate_Profile                                                                                           \n",
            "Experienced Python developer with knowledge of ...                                           0.177301       \n",
            "Proficient in SQL, data visualization, and Exce...                                           0.129099       \n",
            "Web developer skilled in HTML, CSS, JavaScript,...                                           0.816497       \n",
            "Expert in deep learning, TensorFlow, and PyTorc...                                           0.000000       \n",
            "Network security professional with skills in di...                                           0.000000       \n",
            "\n",
            "Job_Description                                     Machine learning engineer with expertise in TensorFlow, PyTorch, and deep learning  \\\n",
            "Candidate_Profile                                                                                                                        \n",
            "Experienced Python developer with knowledge of ...                                           0.301626                                    \n",
            "Proficient in SQL, data visualization, and Exce...                                           0.000000                                    \n",
            "Web developer skilled in HTML, CSS, JavaScript,...                                           0.000000                                    \n",
            "Expert in deep learning, TensorFlow, and PyTorc...                                           0.889477                                    \n",
            "Network security professional with skills in di...                                           0.000000                                    \n",
            "\n",
            "Job_Description                                     Cybersecurity specialist with knowledge of network security and digital forensics  \n",
            "Candidate_Profile                                                                                                                      \n",
            "Experienced Python developer with knowledge of ...                                           0.164149                                  \n",
            "Proficient in SQL, data visualization, and Exce...                                           0.000000                                  \n",
            "Web developer skilled in HTML, CSS, JavaScript,...                                           0.000000                                  \n",
            "Expert in deep learning, TensorFlow, and PyTorc...                                           0.000000                                  \n",
            "Network security professional with skills in di...                                           0.845154                                  \n"
          ]
        }
      ],
      "source": [
        "# Cosine Similarity gives us a better relative measure between the candidates and jobs\n",
        "print(\"\\nComparison:\")\n",
        "print(\"Cosine Similarity:\")\n",
        "print(cosine_sim_df)\n",
        "\n",
        "# You can compare magnitudes (although less commonly done) to Cosine Similarity.\n"
      ]
    }
  ],
  "metadata": {
    "colab": {
      "provenance": []
    },
    "kernelspec": {
      "display_name": "Python 3",
      "name": "python3"
    },
    "language_info": {
      "name": "python"
    }
  },
  "nbformat": 4,
  "nbformat_minor": 0
}
